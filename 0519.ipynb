{
  "nbformat": 4,
  "nbformat_minor": 0,
  "metadata": {
    "colab": {
      "provenance": [],
      "authorship_tag": "ABX9TyO0PAJ5AZP8st6hKKdGr6vP",
      "include_colab_link": true
    },
    "kernelspec": {
      "name": "python3",
      "display_name": "Python 3"
    },
    "language_info": {
      "name": "python"
    }
  },
  "cells": [
    {
      "cell_type": "markdown",
      "metadata": {
        "id": "view-in-github",
        "colab_type": "text"
      },
      "source": [
        "<a href=\"https://colab.research.google.com/github/kutangbunga/Introduction-to-Computers/blob/main/0519.ipynb\" target=\"_parent\"><img src=\"https://colab.research.google.com/assets/colab-badge.svg\" alt=\"Open In Colab\"/></a>"
      ]
    },
    {
      "cell_type": "code",
      "execution_count": 1,
      "metadata": {
        "colab": {
          "base_uri": "https://localhost:8080/"
        },
        "id": "kuC8Hiz-nlQ2",
        "outputId": "5c969c6d-517a-4e59-b24d-07b4d304c319"
      },
      "outputs": [
        {
          "output_type": "stream",
          "name": "stdout",
          "text": [
            "Happy\n",
            "Happy\n",
            "Happy\n",
            "Happy\n",
            "Happy\n",
            "Happy\n",
            "Happy\n",
            "Happy\n",
            "Happy\n"
          ]
        }
      ],
      "source": [
        "count=0\n",
        "while count < 9:\n",
        "  print(\"Happy\")\n",
        "  count += 1"
      ]
    },
    {
      "cell_type": "code",
      "source": [
        "for i in range(9):\n",
        "  print(\"Happy\")"
      ],
      "metadata": {
        "colab": {
          "base_uri": "https://localhost:8080/"
        },
        "id": "YUnh-OQZnvds",
        "outputId": "8a387207-1442-4163-ee4c-ae69edbd6c7e"
      },
      "execution_count": 2,
      "outputs": [
        {
          "output_type": "stream",
          "name": "stdout",
          "text": [
            "Happy\n",
            "Happy\n",
            "Happy\n",
            "Happy\n",
            "Happy\n",
            "Happy\n",
            "Happy\n",
            "Happy\n",
            "Happy\n"
          ]
        }
      ]
    },
    {
      "cell_type": "code",
      "source": [
        "secret_number=21\n",
        "print(\"猜猜看我心裡想的是哪個數字!\")\n",
        "while int(input(\"請輸入一個數字!\"))!=secret_number:\n",
        "  print(\"猜錯了，在試一次!\")\n",
        "print(\"恭喜你，猜對了!\")"
      ],
      "metadata": {
        "colab": {
          "base_uri": "https://localhost:8080/"
        },
        "id": "Q9D34pGXnxGS",
        "outputId": "177dabb2-005a-4bd8-a080-66828eb8fdf9"
      },
      "execution_count": 3,
      "outputs": [
        {
          "output_type": "stream",
          "name": "stdout",
          "text": [
            "猜猜看我心裡想的是哪個數字!\n",
            "請輸入一個數字!66\n",
            "猜錯了，在試一次!\n",
            "請輸入一個數字!90\n",
            "猜錯了，在試一次!\n",
            "請輸入一個數字!21\n",
            "恭喜你，猜對了!\n"
          ]
        }
      ]
    },
    {
      "cell_type": "code",
      "source": [
        "for j in range(5):\n",
        "  if j ==3:break\n",
        "  print(j)\n",
        "print(\"Bye!!\")"
      ],
      "metadata": {
        "colab": {
          "base_uri": "https://localhost:8080/"
        },
        "id": "qaLjCxfMnzlF",
        "outputId": "f51e6ac0-ede0-45cb-ced2-f80ebc599e00"
      },
      "execution_count": 5,
      "outputs": [
        {
          "output_type": "stream",
          "name": "stdout",
          "text": [
            "0\n",
            "1\n",
            "2\n",
            "Bye!!\n"
          ]
        }
      ]
    },
    {
      "cell_type": "code",
      "source": [
        "for j in range(5):\n",
        "  if j ==3:continue\n",
        "  print(j)\n",
        "print(\"Bye!!\")"
      ],
      "metadata": {
        "colab": {
          "base_uri": "https://localhost:8080/"
        },
        "id": "j5mNKOaun8oh",
        "outputId": "7db34236-a283-4772-c873-b0342e5dc7ab"
      },
      "execution_count": 6,
      "outputs": [
        {
          "output_type": "stream",
          "name": "stdout",
          "text": [
            "0\n",
            "1\n",
            "2\n",
            "4\n",
            "Bye!!\n"
          ]
        }
      ]
    }
  ]
}
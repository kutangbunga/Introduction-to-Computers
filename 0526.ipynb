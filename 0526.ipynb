{
  "nbformat": 4,
  "nbformat_minor": 0,
  "metadata": {
    "colab": {
      "provenance": [],
      "authorship_tag": "ABX9TyN4ncc9F+QH8fgfP0f0Q8RL",
      "include_colab_link": true
    },
    "kernelspec": {
      "name": "python3",
      "display_name": "Python 3"
    },
    "language_info": {
      "name": "python"
    }
  },
  "cells": [
    {
      "cell_type": "markdown",
      "metadata": {
        "id": "view-in-github",
        "colab_type": "text"
      },
      "source": [
        "<a href=\"https://colab.research.google.com/github/kutangbunga/Introduction-to-Computers/blob/main/0526.ipynb\" target=\"_parent\"><img src=\"https://colab.research.google.com/assets/colab-badge.svg\" alt=\"Open In Colab\"/></a>"
      ]
    },
    {
      "cell_type": "code",
      "execution_count": 1,
      "metadata": {
        "colab": {
          "base_uri": "https://localhost:8080/"
        },
        "id": "3jQOz64z6sLA",
        "outputId": "85f5a1ce-9dd2-4b34-9dd8-91f63aabe315"
      },
      "outputs": [
        {
          "output_type": "stream",
          "name": "stdout",
          "text": [
            "請輸入一個正整數: 13\n",
            "1 2 3 4 5 6 7 8 9 10 11 12 13 "
          ]
        }
      ],
      "source": [
        "num=int(input(\"請輸入一個正整數: \"))\n",
        "for i in range(1,num+1):\n",
        "  print(i, end=' ')"
      ]
    },
    {
      "cell_type": "code",
      "source": [
        "x=42\n",
        "y=24\n",
        "print(\"這是兩個整數: %d 和 %d \" % (x,y))"
      ],
      "metadata": {
        "colab": {
          "base_uri": "https://localhost:8080/"
        },
        "id": "oLxCQo2d6vcg",
        "outputId": "e18384ef-84fa-4074-d3ff-6e09963cc336"
      },
      "execution_count": 2,
      "outputs": [
        {
          "output_type": "stream",
          "name": "stdout",
          "text": [
            "這是兩個整數: 42 和 24 \n"
          ]
        }
      ]
    },
    {
      "cell_type": "code",
      "source": [
        "n=int(input(\"請輸入一個正整數: \"))\n",
        "total=0\n",
        "for i in range(1,n+1):\n",
        "  total+=i\n",
        "  p_sum=sum(range(1,i+1))\n",
        "  print(\"1到%d的總和為: %d\" % (i,p_sum))"
      ],
      "metadata": {
        "colab": {
          "base_uri": "https://localhost:8080/"
        },
        "id": "7E20xldp61uY",
        "outputId": "1a10b93e-364f-476c-852b-7473466d6ed2"
      },
      "execution_count": 3,
      "outputs": [
        {
          "output_type": "stream",
          "name": "stdout",
          "text": [
            "請輸入一個正整數: 8\n",
            "1到1的總和為: 1\n",
            "1到2的總和為: 3\n",
            "1到3的總和為: 6\n",
            "1到4的總和為: 10\n",
            "1到5的總和為: 15\n",
            "1到6的總和為: 21\n",
            "1到7的總和為: 28\n",
            "1到8的總和為: 36\n"
          ]
        }
      ]
    },
    {
      "cell_type": "code",
      "source": [
        "#偶數字串大寫\n",
        "a=input(\"請入字串:\")\n",
        "for i in range(len(a)):\n",
        "  if(i%2!=0):\n",
        "    print(a[i].upper(),end=' ')\n",
        "  else:\n",
        "    print(a[i].lower(),end=' ')"
      ],
      "metadata": {
        "colab": {
          "base_uri": "https://localhost:8080/"
        },
        "id": "2MbqFF7-62Xa",
        "outputId": "b0a749ec-12d6-4849-86a9-a99cf138e288"
      },
      "execution_count": 4,
      "outputs": [
        {
          "output_type": "stream",
          "name": "stdout",
          "text": [
            "請入字串:panda\n",
            "p A n D a "
          ]
        }
      ]
    },
    {
      "cell_type": "code",
      "source": [
        "n=int(input(\"請輸入整數: \"))\n",
        "for i in range(1,n+1):\n",
        "  for j in range(i):\n",
        "    print(\"*\",end=\" \")\n",
        "  print()"
      ],
      "metadata": {
        "colab": {
          "base_uri": "https://localhost:8080/"
        },
        "id": "r5MZKxku66fC",
        "outputId": "eec721b0-0739-4b25-ea20-80040921df65"
      },
      "execution_count": 5,
      "outputs": [
        {
          "output_type": "stream",
          "name": "stdout",
          "text": [
            "請輸入整數: 5\n",
            "* \n",
            "* * \n",
            "* * * \n",
            "* * * * \n",
            "* * * * * \n"
          ]
        }
      ]
    },
    {
      "cell_type": "code",
      "source": [
        "n=int(input(\"請輸入整數: \"))\n",
        "for i in range(1,n+1):\n",
        "  for j in range(i):\n",
        "    print(j+1,end=\" \")\n",
        "  print()"
      ],
      "metadata": {
        "colab": {
          "base_uri": "https://localhost:8080/"
        },
        "id": "YxVo4N_o6--O",
        "outputId": "c5d4051f-3022-41f3-898d-cb832b51d3be"
      },
      "execution_count": 6,
      "outputs": [
        {
          "output_type": "stream",
          "name": "stdout",
          "text": [
            "請輸入整數: 5\n",
            "1 \n",
            "1 2 \n",
            "1 2 3 \n",
            "1 2 3 4 \n",
            "1 2 3 4 5 \n"
          ]
        }
      ]
    },
    {
      "cell_type": "code",
      "source": [
        "n = int(input(\"請輸入整數: \"))\n",
        "for i in range(1, n+1):\n",
        "    print(\" \" * (n - i), end=\" \")\n",
        "    print(\"*\" * i)"
      ],
      "metadata": {
        "colab": {
          "base_uri": "https://localhost:8080/"
        },
        "id": "ziHD2fY07D3Z",
        "outputId": "649e30d0-5019-428a-e4e9-f257ec2ef3a3"
      },
      "execution_count": 8,
      "outputs": [
        {
          "output_type": "stream",
          "name": "stdout",
          "text": [
            "請輸入整數: 5\n",
            "     *\n",
            "    **\n",
            "   ***\n",
            "  ****\n",
            " *****\n"
          ]
        }
      ]
    }
  ]
}